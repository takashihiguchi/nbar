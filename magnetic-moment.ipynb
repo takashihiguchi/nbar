{
 "cells": [
  {
   "cell_type": "markdown",
   "id": "0bdd118a",
   "metadata": {},
   "source": [
    "# Magnetic moment measurement concept of antineutron "
   ]
  },
  {
   "cell_type": "code",
   "execution_count": 3,
   "id": "c9bc4ea9",
   "metadata": {},
   "outputs": [],
   "source": [
    "%matplotlib inline\n",
    "from matplotlib import pyplot as plt\n",
    "import numpy as np\n",
    "import pandas as pd\n",
    "from scipy import constants\n"
   ]
  },
  {
   "cell_type": "markdown",
   "id": "24141681",
   "metadata": {},
   "source": [
    "Fundamental equations\n",
    "\n",
    "$$ \n",
    " F = - \\frac{\\partial B}{\\partial x}\\cdot \\mu\n",
    " $$\n",
    " \n",
    " $$\n",
    "a = \\frac{F}{m} = \\frac{1}{m}\\frac{\\partial B }{\\partial x} \\cdot \\mu \n",
    "$$\n",
    "\n",
    "$$\n",
    "\\Delta x = \\frac{}"
   ]
  },
  {
   "cell_type": "code",
   "execution_count": 11,
   "id": "3e655747",
   "metadata": {},
   "outputs": [],
   "source": [
    "m_n = constants.m_n / (constants.e)* constants.c**2"
   ]
  },
  {
   "cell_type": "code",
   "execution_count": 61,
   "id": "971d3f41",
   "metadata": {},
   "outputs": [
    {
     "data": {
      "text/plain": [
       "939565420.5203888"
      ]
     },
     "execution_count": 61,
     "metadata": {},
     "output_type": "execute_result"
    }
   ],
   "source": [
    "m_n\n"
   ]
  },
  {
   "cell_type": "code",
   "execution_count": 37,
   "id": "cf840a26",
   "metadata": {},
   "outputs": [],
   "source": [
    "\n",
    "def b_from_p(p, m):\n",
    "    E = np.sqrt(m**2 + p**2)\n",
    "    return p/E\n",
    "\n",
    "def gaus(x, mu, sig):\n",
    "    return 1/(np.sqrt(2*np.pi)*sig)*np.exp(-(x-mu)**2/(2*sig**2))"
   ]
  },
  {
   "cell_type": "code",
   "execution_count": 57,
   "id": "58264e8f",
   "metadata": {},
   "outputs": [],
   "source": [
    "vzmean = b_from_p(10, m_n * 1e-6) *constants.c "
   ]
  },
  {
   "cell_type": "code",
   "execution_count": 63,
   "id": "5064ca5f",
   "metadata": {},
   "outputs": [],
   "source": [
    "mu_n =  29.1646935e6 * constants.h  /constants.e /2\n",
    "\n",
    "def x(l, v, dBdx):\n",
    "    return mu_n/m_n * constants.c**2 * dBdx * 1/2. * (l/v)**2\n"
   ]
  },
  {
   "cell_type": "code",
   "execution_count": 68,
   "id": "e5d28c00",
   "metadata": {},
   "outputs": [
    {
     "data": {
      "text/plain": [
       "6.418684540978052e-17"
      ]
     },
     "execution_count": 68,
     "metadata": {},
     "output_type": "execute_result"
    }
   ],
   "source": [
    "mu_n/m_n"
   ]
  },
  {
   "cell_type": "code",
   "execution_count": 66,
   "id": "084c2039",
   "metadata": {},
   "outputs": [
    {
     "data": {
      "text/plain": [
       "7.083685769182537e-13"
      ]
     },
     "execution_count": 66,
     "metadata": {},
     "output_type": "execute_result"
    }
   ],
   "source": [
    "x(1, vzmean, 250e-4*1e2)"
   ]
  },
  {
   "cell_type": "code",
   "execution_count": 39,
   "id": "7b16f68d",
   "metadata": {},
   "outputs": [],
   "source": [
    "L  = 5\n",
    "\n",
    "t = L/vzmean"
   ]
  },
  {
   "cell_type": "code",
   "execution_count": 65,
   "id": "af4123d4",
   "metadata": {},
   "outputs": [
    {
     "data": {
      "text/plain": [
       "2.5"
      ]
     },
     "execution_count": 65,
     "metadata": {},
     "output_type": "execute_result"
    }
   ],
   "source": [
    "250e-4*1e2"
   ]
  },
  {
   "cell_type": "code",
   "execution_count": 70,
   "id": "5599b96e",
   "metadata": {},
   "outputs": [
    {
     "data": {
      "text/plain": [
       "[<matplotlib.lines.Line2D at 0x7fc9a6a86750>]"
      ]
     },
     "execution_count": 70,
     "metadata": {},
     "output_type": "execute_result"
    },
    {
     "data": {
      "image/png": "[encoded data removed]",
      "text/plain": [
       "<Figure size 640x480 with 1 Axes>"
      ]
     },
     "metadata": {},
     "output_type": "display_data"
    }
   ],
   "source": [
    "xlin = np.linspace(-0.5, 0.5, 10000)\n",
    "plt.plot(xlin, gaus(xlin, 0, t*vmean*0.01))\n"
   ]
  },
  {
   "cell_type": "code",
   "execution_count": 69,
   "id": "5ddfec7a",
   "metadata": {},
   "outputs": [
    {
     "data": {
      "text/plain": [
       "1.567115199251561e-06"
      ]
     },
     "execution_count": 69,
     "metadata": {},
     "output_type": "execute_result"
    }
   ],
   "source": [
    "5/vmean"
   ]
  },
  {
   "cell_type": "code",
   "execution_count": null,
   "id": "fff89504",
   "metadata": {},
   "outputs": [],
   "source": []
  }
 ],
 "metadata": {
  "kernelspec": {
   "display_name": "Python 3 (ipykernel)",
   "language": "python",
   "name": "python3"
  },
  "language_info": {
   "codemirror_mode": {
    "name": "ipython",
    "version": 3
   },
   "file_extension": ".py",
   "mimetype": "text/x-python",
   "name": "python",
   "nbconvert_exporter": "python",
   "pygments_lexer": "ipython3",
   "version": "3.7.4"
  }
 },
 "nbformat": 4,
 "nbformat_minor": 5
}
